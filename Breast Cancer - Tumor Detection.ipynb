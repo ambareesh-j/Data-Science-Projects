{
 "cells": [
  {
   "cell_type": "markdown",
   "id": "e6e844da",
   "metadata": {},
   "source": [
    "### About Breast Cancer Dataset\n",
    "\n",
    "* The load_breast_cancer() dataset from scikit-learn is a classic binary classification dataset used to predict whether a tumor is malignant or benign based on various features extracted from medical images.\n",
    "\n",
    "### Dataset Overview\n",
    "Samples: 569, \n",
    "Features: 30 numeric features,</br>\n",
    "Target classes:</br>\n",
    "0: Malignant (cancerous)</br>\n",
    "1: Benign (non-cancerous)\n",
    "\n",
    "### Feature Categories\n",
    "Each sample represents a tumor, and the features are grouped into three categories:\n",
    "\n",
    "1. Mean values (e.g., mean radius, mean texture)</br>\n",
    "2. Standard error (e.g., radius error, texture error)</br>\n",
    "3. Worst values (e.g., worst radius, worst texture)</br>\n",
    "\n",
    "These features are computed from digitized images of fine needle aspirates (FNA) of breast masses.\n",
    "\n",
    "### Feature Categories\n",
    "The dataset contains 30 numeric features, grouped into three types for each of 10 base measurements: </br>\n",
    "\n",
    "###  Base Measurement\tDescription\n",
    "    1. Radius = Distance from center to edge of the tumor. (Larger tumors tend to be more suspicious.)\n",
    "    2. Texture = Variation in gray-scale pixel intensity. (Irregular texture may indicate malignancy.)\n",
    "    3. Perimeter = Length around the tumor boundary\n",
    "    4. Area = Size of the tumor in pixels\n",
    "    5. Smoothness = How smooth the edges of the tumor ar. (Malignant tumors often have rougher, less defined edges.)\n",
    "    6. Compactness = Combination of perimeter² / area - 1\n",
    "    7. Concavity = Severity of concave portions of the contour (More concave regions can suggest aggressive growth.)\n",
    "    8. Concave Points = Number of concave portions (More concave regions can suggest aggressive growth.)\n",
    "    9. Symmetry = Symmetry of the tumor shape\n",
    "    10. Fractal Dimension = Complexity of the contour (Higher values may indicate irregular, jagged edges typical of malignant tumors.)\n",
    "    \n",
    "### Why These Features Matter\n",
    "* Radiologists use these measurements to assess:\n",
    "    1. Shape: Is the tumor round or irregular?\n",
    "    2. Size: Is it growing?\n",
    "    3. Texture: Is it homogeneous or patchy?\n",
    "    4. Edge definition: Are the borders smooth or spiky?\n",
    "\n",
    "These clues help determine whether a tumor is benign (non-cancerous) or malignant (cancerous)."
   ]
  },
  {
   "cell_type": "markdown",
   "id": "b93ca0ab",
   "metadata": {},
   "source": [
    "## 1. Import/Load the dataset"
   ]
  },
  {
   "cell_type": "code",
   "execution_count": 3,
   "id": "ff714fdc",
   "metadata": {},
   "outputs": [
    {
     "name": "stdout",
     "output_type": "stream",
     "text": [
      "   mean radius  mean texture  mean perimeter  mean area  mean smoothness  \\\n",
      "0        17.99         10.38          122.80     1001.0          0.11840   \n",
      "1        20.57         17.77          132.90     1326.0          0.08474   \n",
      "2        19.69         21.25          130.00     1203.0          0.10960   \n",
      "3        11.42         20.38           77.58      386.1          0.14250   \n",
      "4        20.29         14.34          135.10     1297.0          0.10030   \n",
      "\n",
      "   mean compactness  mean concavity  mean concave points  mean symmetry  \\\n",
      "0           0.27760          0.3001              0.14710         0.2419   \n",
      "1           0.07864          0.0869              0.07017         0.1812   \n",
      "2           0.15990          0.1974              0.12790         0.2069   \n",
      "3           0.28390          0.2414              0.10520         0.2597   \n",
      "4           0.13280          0.1980              0.10430         0.1809   \n",
      "\n",
      "   mean fractal dimension  ...  worst texture  worst perimeter  worst area  \\\n",
      "0                 0.07871  ...          17.33           184.60      2019.0   \n",
      "1                 0.05667  ...          23.41           158.80      1956.0   \n",
      "2                 0.05999  ...          25.53           152.50      1709.0   \n",
      "3                 0.09744  ...          26.50            98.87       567.7   \n",
      "4                 0.05883  ...          16.67           152.20      1575.0   \n",
      "\n",
      "   worst smoothness  worst compactness  worst concavity  worst concave points  \\\n",
      "0            0.1622             0.6656           0.7119                0.2654   \n",
      "1            0.1238             0.1866           0.2416                0.1860   \n",
      "2            0.1444             0.4245           0.4504                0.2430   \n",
      "3            0.2098             0.8663           0.6869                0.2575   \n",
      "4            0.1374             0.2050           0.4000                0.1625   \n",
      "\n",
      "   worst symmetry  worst fractal dimension  target  \n",
      "0          0.4601                  0.11890       0  \n",
      "1          0.2750                  0.08902       0  \n",
      "2          0.3613                  0.08758       0  \n",
      "3          0.6638                  0.17300       0  \n",
      "4          0.2364                  0.07678       0  \n",
      "\n",
      "[5 rows x 31 columns]\n"
     ]
    }
   ],
   "source": [
    "import pandas as pd\n",
    "from sklearn.datasets import load_breast_cancer\n",
    "\n",
    "# Load the dataset\n",
    "data = load_breast_cancer()\n",
    "\n",
    "# Create a DataFrame with feature data\n",
    "df = pd.DataFrame(data.data, columns=data.feature_names)\n",
    "\n",
    "# Add the target column\n",
    "df['target'] = data.target\n",
    "\n",
    "# Display the first few rows\n",
    "print(df.head())"
   ]
  },
  {
   "cell_type": "markdown",
   "id": "5d9fe35d",
   "metadata": {},
   "source": [
    "## 2. EDA \n",
    "\n",
    "#### Outlier detection \n",
    "    - Outliers can distort model performance, especially for distance-based models (e.g., SVM, k-NN).\n",
    "    \n",
    "#### Check: \n",
    "     - Use boxplots or Z-score/IQR methods on features like mean radius, mean area, etc."
   ]
  },
  {
   "cell_type": "code",
   "execution_count": 5,
   "id": "c22b6d70",
   "metadata": {},
   "outputs": [
    {
     "name": "stdout",
     "output_type": "stream",
     "text": [
      "Outlier counts per feature:\n",
      "area error                 65\n",
      "radius error               38\n",
      "perimeter error            38\n",
      "worst area                 35\n",
      "smoothness error           30\n",
      "fractal dimension error    28\n",
      "compactness error          28\n",
      "symmetry error             27\n",
      "mean area                  25\n",
      "worst fractal dimension    24\n",
      "worst symmetry             23\n",
      "concavity error            22\n",
      "texture error              20\n",
      "concave points error       19\n",
      "mean concavity             18\n",
      "worst radius               17\n",
      "worst compactness          16\n",
      "mean compactness           16\n",
      "mean symmetry              15\n",
      "mean fractal dimension     15\n",
      "worst perimeter            15\n",
      "mean radius                14\n",
      "mean perimeter             13\n",
      "worst concavity            12\n",
      "mean concave points        10\n",
      "mean texture                7\n",
      "worst smoothness            7\n",
      "mean smoothness             6\n",
      "worst texture               5\n",
      "worst concave points        0\n",
      "target                      0\n",
      "dtype: int64\n"
     ]
    }
   ],
   "source": [
    "import numpy as np\n",
    "\n",
    "# Calculate IQR for each feature\n",
    "Q1 = df.quantile(0.25)\n",
    "Q3 = df.quantile(0.75)\n",
    "IQR = Q3 - Q1\n",
    "\n",
    "# Define outlier condition: values outside [Q1 - 1.5*IQR, Q3 + 1.5*IQR]\n",
    "outlier_mask = ((df < (Q1 - 1.5 * IQR)) | (df > (Q3 + 1.5 * IQR)))\n",
    "\n",
    "# Count outliers per feature\n",
    "outlier_counts = outlier_mask.sum()\n",
    "\n",
    "# Display features with most outliers\n",
    "print(\"Outlier counts per feature:\")\n",
    "print(outlier_counts.sort_values(ascending=False))\n"
   ]
  },
  {
   "cell_type": "code",
   "execution_count": 17,
   "id": "d0341934",
   "metadata": {},
   "outputs": [
    {
     "name": "stdout",
     "output_type": "stream",
     "text": [
      "Outliers capped. Here's a preview:\n",
      "       mean radius  mean texture  mean perimeter    mean area  \\\n",
      "count   569.000000    569.000000      569.000000   569.000000   \n",
      "mean     14.062916     19.254736       91.543787   639.765202   \n",
      "std       3.340025      4.187510       23.047218   305.343508   \n",
      "min       6.981000      9.710000       43.790000   143.500000   \n",
      "25%      11.700000     16.170000       75.170000   420.300000   \n",
      "50%      13.370000     18.840000       86.240000   551.100000   \n",
      "75%      15.780000     21.800000      104.100000   782.700000   \n",
      "max      21.900000     30.245000      147.495000  1326.300000   \n",
      "\n",
      "       mean smoothness  mean compactness  mean concavity  mean concave points  \\\n",
      "count       569.000000        569.000000      569.000000           569.000000   \n",
      "mean          0.096266          0.103222        0.086937             0.048552   \n",
      "std           0.013685          0.049386        0.073900             0.037633   \n",
      "min           0.057975          0.019380        0.000000             0.000000   \n",
      "25%           0.086370          0.064920        0.029560             0.020310   \n",
      "50%           0.095870          0.092630        0.061540             0.033500   \n",
      "75%           0.105300          0.130400        0.130700             0.074000   \n",
      "max           0.133695          0.228620        0.282410             0.154535   \n",
      "\n",
      "       mean symmetry  mean fractal dimension  ...  worst texture  \\\n",
      "count     569.000000              569.000000  ...     569.000000   \n",
      "mean        0.180734                0.062604  ...      25.648453   \n",
      "std         0.026067                0.006418  ...       6.054406   \n",
      "min         0.111200                0.049960  ...      12.020000   \n",
      "25%         0.161900                0.057700  ...      21.080000   \n",
      "50%         0.179200                0.061540  ...      25.410000   \n",
      "75%         0.195700                0.066120  ...      29.720000   \n",
      "max         0.246400                0.078750  ...      42.680000   \n",
      "\n",
      "       worst perimeter   worst area  worst smoothness  worst compactness  \\\n",
      "count       569.000000   569.000000        569.000000         569.000000   \n",
      "mean        106.705369   849.907821          0.132209           0.249883   \n",
      "std          31.957777   475.645240          0.022320           0.142851   \n",
      "min          50.410000   185.200000          0.072500           0.027290   \n",
      "25%          84.110000   515.300000          0.116600           0.147200   \n",
      "50%          97.660000   686.500000          0.131300           0.211900   \n",
      "75%         125.400000  1084.000000          0.146000           0.339100   \n",
      "max         187.335000  1937.050000          0.190100           0.626950   \n",
      "\n",
      "       worst concavity  worst concave points  worst symmetry  \\\n",
      "count       569.000000            569.000000      569.000000   \n",
      "mean          0.268754              0.114606        0.287616   \n",
      "std           0.197461              0.065732        0.053868   \n",
      "min           0.000000              0.000000        0.156500   \n",
      "25%           0.114500              0.064930        0.250400   \n",
      "50%           0.226700              0.099930        0.282200   \n",
      "75%           0.382900              0.161400        0.317900   \n",
      "max           0.785500              0.291000        0.419150   \n",
      "\n",
      "       worst fractal dimension      target  \n",
      "count               569.000000  569.000000  \n",
      "mean                  0.083342    0.627417  \n",
      "std                   0.015993    0.483918  \n",
      "min                   0.055040    0.000000  \n",
      "25%                   0.071460    0.000000  \n",
      "50%                   0.080040    1.000000  \n",
      "75%                   0.092080    1.000000  \n",
      "max                   0.123010    1.000000  \n",
      "\n",
      "[8 rows x 31 columns]\n"
     ]
    }
   ],
   "source": [
    "## Let's cap these Outliers using IQR Methods\n",
    "\n",
    "# Calculate Q1, Q3, and IQR for each feature\n",
    "Q1 = df.quantile(0.25)\n",
    "Q3 = df.quantile(0.75)\n",
    "IQR = Q3 - Q1\n",
    "\n",
    "# Define lower and upper bounds\n",
    "lower_bound = Q1 - 1.5 * IQR\n",
    "upper_bound = Q3 + 1.5 * IQR\n",
    "\n",
    "# Cap values outside the bounds\n",
    "df_capped = df.copy()\n",
    "for col in df.columns[:-1]:  # exclude 'target'\n",
    "    df_capped[col] = np.where(df_capped[col] < lower_bound[col], lower_bound[col],\n",
    "                              np.where(df_capped[col] > upper_bound[col], upper_bound[col], df_capped[col]))\n",
    "    \n",
    "print(\"Outliers capped. Here's a preview:\")\n",
    "print(df_capped.describe())"
   ]
  },
  {
   "cell_type": "markdown",
   "id": "9e7aa5c4",
   "metadata": {},
   "source": [
    "## 3. Feature Engineering\n",
    "\n",
    "#### 1. Normalization using StandardScaler\n",
    "#### 2. Feature Selection \n",
    "    * Feature selection helps reduce noise, improve model performance, and enhance interpretability. Since this dataset is clean and scaled, we shall use a simple and effective method: SelectKBest with ANOVA F-test.\n",
    "\n"
   ]
  },
  {
   "cell_type": "code",
   "execution_count": 19,
   "id": "db2a721f",
   "metadata": {},
   "outputs": [
    {
     "name": "stdout",
     "output_type": "stream",
     "text": [
      "   mean radius  mean texture  mean perimeter  mean area  mean smoothness  \\\n",
      "0     1.176800     -2.121200        1.357375   1.184085         1.618861   \n",
      "1     1.949929     -0.354875        1.795991   2.249396        -0.842995   \n",
      "2     1.686226      0.476899        1.670052   1.846217         0.975239   \n",
      "3    -0.791983      0.268955       -0.606410  -0.831485         2.737521   \n",
      "4     1.866023     -1.174698        1.891531   2.154338         0.295047   \n",
      "\n",
      "   mean compactness  mean concavity  mean concave points  mean symmetry  \\\n",
      "0          2.541404        2.647422             2.620973       2.348535   \n",
      "1         -0.498189       -0.000497             0.574944       0.017882   \n",
      "2          1.148680        1.496076             2.110330       1.004666   \n",
      "3          2.541404        2.091997             1.506601       2.521318   \n",
      "4          0.599453        1.504202             1.482665       0.006363   \n",
      "\n",
      "   mean fractal dimension  ...  worst radius  worst texture  worst perimeter  \\\n",
      "0                2.511708  ...      2.006477      -1.375159         2.439568   \n",
      "1               -0.925449  ...      1.921384      -0.370048         1.631542   \n",
      "2               -0.407692  ...      1.611558      -0.019582         1.434234   \n",
      "3                2.517947  ...     -0.277945       0.140773        -0.245395   \n",
      "4               -0.588595  ...      1.386825      -1.484267         1.424838   \n",
      "\n",
      "   worst area  worst smoothness  worst compactness  worst concavity  \\\n",
      "0    2.287627          1.344848           2.641905         2.246192   \n",
      "1    2.287627         -0.377098          -0.443388        -0.137634   \n",
      "2    1.807751          0.546654           1.223448         0.920718   \n",
      "3   -0.593838          2.595949           2.641905         2.119474   \n",
      "4    1.525780          0.232758          -0.314469         0.665254   \n",
      "\n",
      "   worst concave points  worst symmetry  worst fractal dimension  \n",
      "0              2.296076        2.443918                 2.225247  \n",
      "1              1.087084       -0.234408                 0.355314  \n",
      "2              1.955000        1.369057                 0.265197  \n",
      "3              2.175786        2.443918                 2.482456  \n",
      "4              0.729259       -0.951602                -0.410683  \n",
      "\n",
      "[5 rows x 30 columns]\n"
     ]
    }
   ],
   "source": [
    "from sklearn.preprocessing import StandardScaler\n",
    "\n",
    "# Separate features and target\n",
    "X = df_capped.drop('target', axis=1)\n",
    "y = df_capped['target']\n",
    "\n",
    "# Initialize scaler\n",
    "scaler = StandardScaler()\n",
    "\n",
    "# Fit and transform the features\n",
    "X_scaled = scaler.fit_transform(X)\n",
    "\n",
    "# Convert scaled data back to DataFrame\n",
    "X_scaled_df = pd.DataFrame(X_scaled, columns=X.columns)\n",
    "\n",
    "# Display first few rows\n",
    "print(X_scaled_df.head())"
   ]
  },
  {
   "cell_type": "code",
   "execution_count": 21,
   "id": "e01bb857",
   "metadata": {},
   "outputs": [
    {
     "name": "stdout",
     "output_type": "stream",
     "text": [
      "Selected features:\n",
      "Index(['mean radius', 'mean perimeter', 'mean area', 'mean concavity',\n",
      "       'mean concave points', 'area error', 'worst radius', 'worst perimeter',\n",
      "       'worst area', 'worst concave points'],\n",
      "      dtype='object')\n"
     ]
    }
   ],
   "source": [
    "from sklearn.feature_selection import SelectKBest, f_classif\n",
    "\n",
    "# Apply SelectKBest with ANOVA F-test\n",
    "selector = SelectKBest(score_func=f_classif, k=10)  # Select top 10 features\n",
    "X_selected = selector.fit_transform(X_scaled, y)\n",
    "\n",
    "# Get selected feature names\n",
    "selected_features = X.columns[selector.get_support()]\n",
    "print(\"Selected features:\")\n",
    "print(selected_features)\n"
   ]
  },
  {
   "cell_type": "code",
   "execution_count": 23,
   "id": "5fc10d1d",
   "metadata": {},
   "outputs": [
    {
     "name": "stdout",
     "output_type": "stream",
     "text": [
      "Selected features (Mutual Info):\n",
      "Index(['mean radius', 'mean perimeter', 'mean area', 'mean concavity',\n",
      "       'mean concave points', 'area error', 'worst radius', 'worst perimeter',\n",
      "       'worst area', 'worst concave points'],\n",
      "      dtype='object')\n"
     ]
    }
   ],
   "source": [
    "from sklearn.feature_selection import SelectKBest, mutual_info_classif\n",
    "\n",
    "# Trying mutual information as an alternative to compare\n",
    "selector = SelectKBest(score_func=mutual_info_classif, k=10)\n",
    "X_selected_mi = selector.fit_transform(X_scaled, y)\n",
    "selected_features_mi = X.columns[selector.get_support()]\n",
    "\n",
    "print(\"Selected features (Mutual Info):\")\n",
    "print(selected_features_mi)\n",
    "\n",
    "## The results is same as above, so let's choose the previous set of selected features only. "
   ]
  },
  {
   "cell_type": "code",
   "execution_count": 25,
   "id": "e1aaccc8",
   "metadata": {},
   "outputs": [
    {
     "name": "stdout",
     "output_type": "stream",
     "text": [
      "RFE-selected features:\n",
      "Index(['mean concave points', 'radius error', 'area error',\n",
      "       'compactness error', 'worst radius', 'worst texture', 'worst perimeter',\n",
      "       'worst area', 'worst concavity', 'worst concave points'],\n",
      "      dtype='object')\n"
     ]
    }
   ],
   "source": [
    "# Since we are going to do logistic regression, it would be ideal to work with RFE for Feature Selection\n",
    "\n",
    "from sklearn.feature_selection import RFE\n",
    "from sklearn.linear_model import LogisticRegression\n",
    "\n",
    "# Initialize model and RFE selector\n",
    "model = LogisticRegression(max_iter=1000)\n",
    "rfe = RFE(estimator=model, n_features_to_select=10)\n",
    "\n",
    "# Fit RFE\n",
    "X_rfe = rfe.fit_transform(X_scaled, y)\n",
    "selected_rfe_features = X.columns[rfe.support_]\n",
    "print(\"RFE-selected features:\")\n",
    "print(selected_rfe_features)\n"
   ]
  },
  {
   "cell_type": "markdown",
   "id": "33abc96a",
   "metadata": {},
   "source": [
    "## 4.1 Data Preparation for Modelling"
   ]
  },
  {
   "cell_type": "code",
   "execution_count": 39,
   "id": "99c8742a",
   "metadata": {},
   "outputs": [],
   "source": [
    "from sklearn.model_selection import train_test_split\n",
    "\n",
    "# Use only selected features\n",
    "X_model = X_scaled_df[selected_rfe_features]\n",
    "\n",
    "# Train-test split\n",
    "X_train, X_test, y_train, y_test = train_test_split(X_model, y, test_size=0.2, random_state=42, stratify=y)\n"
   ]
  },
  {
   "cell_type": "markdown",
   "id": "1143ee64",
   "metadata": {},
   "source": [
    "## 4.2 Logistics Regression"
   ]
  },
  {
   "cell_type": "code",
   "execution_count": 41,
   "id": "75226e16",
   "metadata": {},
   "outputs": [
    {
     "name": "stdout",
     "output_type": "stream",
     "text": [
      "Accuracy: 0.9736842105263158\n",
      "Confusion Matrix:\n",
      " [[40  2]\n",
      " [ 1 71]]\n",
      "Classification Report:\n",
      "               precision    recall  f1-score   support\n",
      "\n",
      "           0       0.98      0.95      0.96        42\n",
      "           1       0.97      0.99      0.98        72\n",
      "\n",
      "    accuracy                           0.97       114\n",
      "   macro avg       0.97      0.97      0.97       114\n",
      "weighted avg       0.97      0.97      0.97       114\n",
      "\n"
     ]
    }
   ],
   "source": [
    "from sklearn.linear_model import LogisticRegression\n",
    "from sklearn.metrics import accuracy_score, confusion_matrix, classification_report\n",
    "\n",
    "# Initialize and train model\n",
    "model = LogisticRegression(max_iter=1000)\n",
    "model.fit(X_train, y_train)\n",
    "\n",
    "# Predict and evaluate\n",
    "y_pred = model.predict(X_test)\n",
    "print(\"Accuracy:\", accuracy_score(y_test, y_pred))\n",
    "print(\"Confusion Matrix:\\n\", confusion_matrix(y_test, y_pred))\n",
    "print(\"Classification Report:\\n\", classification_report(y_test, y_pred))"
   ]
  },
  {
   "cell_type": "code",
   "execution_count": 42,
   "id": "b00e290a",
   "metadata": {},
   "outputs": [],
   "source": [
    "# ANOVA f-test & Mutual information based features selected have given only 95 % accuracy score\n",
    "# RFE feature selection has given 97 % accuracy score."
   ]
  },
  {
   "cell_type": "markdown",
   "id": "ee4472c1",
   "metadata": {},
   "source": [
    "#### RFE works with Logistics Regression well (this is a model-aware choice) better than ANOVA f-test because \n",
    "    1. Model-based selection - RFE uses the model’s coefficients to rank features by importance. Logistic regression provides clear, interpretable weights. \n",
    "    2. Captures interactions - Unlike univariate methods (e.g., ANOVA F-test), RFE considers how features work together in the context of the model.\n",
    "    3. No need for distribution assumptions - RFE doesn’t assume normality or linearity in the data — it just relies on model performance.\n",
    "    4. Flexible and iterative - You can tune the number of features to retain, or use RFECV to find the optimal count via cross-validation."
   ]
  },
  {
   "cell_type": "markdown",
   "id": "158bd4c9",
   "metadata": {},
   "source": [
    "## 4.3 ROC Curve & AUC"
   ]
  },
  {
   "cell_type": "code",
   "execution_count": 43,
   "id": "ccc675d3",
   "metadata": {},
   "outputs": [
    {
     "data": {
      "image/png": "[encoded data removed]",
      "text/plain": [
       "<Figure size 640x480 with 1 Axes>"
      ]
     },
     "metadata": {},
     "output_type": "display_data"
    }
   ],
   "source": [
    "from sklearn.metrics import roc_curve, auc\n",
    "import matplotlib.pyplot as plt\n",
    "\n",
    "y_prob = model.predict_proba(X_test)[:, 1]\n",
    "fpr, tpr, _ = roc_curve(y_test, y_prob)\n",
    "roc_auc = auc(fpr, tpr)\n",
    "\n",
    "plt.figure()\n",
    "plt.plot(fpr, tpr, label=f'ROC curve (AUC = {roc_auc:.2f})')\n",
    "plt.plot([0, 1], [0, 1], 'k--')\n",
    "plt.xlabel('False Positive Rate')\n",
    "plt.ylabel('True Positive Rate')\n",
    "plt.title('ROC Curve')\n",
    "plt.legend()\n",
    "plt.show()"
   ]
  },
  {
   "cell_type": "markdown",
   "id": "b475ec3d",
   "metadata": {},
   "source": [
    "## 5.1 Model comparison"
   ]
  },
  {
   "cell_type": "code",
   "execution_count": 48,
   "id": "afaa0313",
   "metadata": {},
   "outputs": [],
   "source": [
    "import warnings\n",
    "warnings.filterwarnings(\"ignore\", category=FutureWarning)"
   ]
  },
  {
   "cell_type": "code",
   "execution_count": 50,
   "id": "28978ecb",
   "metadata": {},
   "outputs": [],
   "source": [
    "from sklearn.linear_model import LogisticRegression\n",
    "from sklearn.ensemble import RandomForestClassifier\n",
    "from sklearn.svm import SVC\n",
    "from sklearn.neighbors import KNeighborsClassifier\n",
    "from sklearn.ensemble import GradientBoostingClassifier\n",
    "\n",
    "models = {\n",
    "    'Logistic Regression': LogisticRegression(max_iter=1000),\n",
    "    'Random Forest': RandomForestClassifier(),\n",
    "    'SVM': SVC(probability=True),\n",
    "    'KNN': KNeighborsClassifier(),\n",
    "    'Gradient Boosting': GradientBoostingClassifier()\n",
    "}\n"
   ]
  },
  {
   "cell_type": "code",
   "execution_count": 51,
   "id": "2804b86e",
   "metadata": {},
   "outputs": [
    {
     "name": "stdout",
     "output_type": "stream",
     "text": [
      "Logistic Regression: Accuracy = 0.9737, ROC AUC = 0.9970\n",
      "Random Forest: Accuracy = 0.9474, ROC AUC = 0.9926\n",
      "SVM: Accuracy = 0.9737, ROC AUC = 0.9957\n",
      "KNN: Accuracy = 0.9386, ROC AUC = 0.9716\n",
      "Gradient Boosting: Accuracy = 0.9474, ROC AUC = 0.9921\n"
     ]
    }
   ],
   "source": [
    "# Train & Evaluate \n",
    "\n",
    "from sklearn.metrics import accuracy_score, roc_auc_score\n",
    "\n",
    "results = {}\n",
    "\n",
    "for name, model in models.items():\n",
    "    model.fit(X_train, y_train)\n",
    "    y_pred = model.predict(X_test)\n",
    "    y_prob = model.predict_proba(X_test)[:, 1]\n",
    "    \n",
    "    results[name] = {\n",
    "        'Accuracy': accuracy_score(y_test, y_pred),\n",
    "        'ROC AUC': roc_auc_score(y_test, y_prob)\n",
    "    }\n",
    "\n",
    "# Display results\n",
    "for name, metrics in results.items():\n",
    "    print(f\"{name}: Accuracy = {metrics['Accuracy']:.4f}, ROC AUC = {metrics['ROC AUC']:.4f}\")\n"
   ]
  },
  {
   "cell_type": "markdown",
   "id": "041a1b9e",
   "metadata": {},
   "source": [
    "### 🧠 Insights\n",
    "Logistic Regression shines — your feature selection via ANOVA F-test aligns well with linear modeling.\n",
    "\n",
    "SVM performs nearly identically, suggesting your data is well-separated in feature space.\n",
    "\n",
    "Tree-based models (RF, GB) are solid but didn’t outperform linear methods — likely due to the clean, well-engineered features.\n",
    "\n",
    "KNN struggles — typical when feature space isn’t tightly clustered or when scaling matters."
   ]
  },
  {
   "cell_type": "markdown",
   "id": "9a81b1b5",
   "metadata": {},
   "source": [
    "## 5.2 Cross Validation"
   ]
  },
  {
   "cell_type": "code",
   "execution_count": 52,
   "id": "7a88ba66",
   "metadata": {},
   "outputs": [
    {
     "name": "stdout",
     "output_type": "stream",
     "text": [
      "Logistic Regression: CV Accuracy = 0.9649 ± 0.0078\n",
      "Random Forest: CV Accuracy = 0.9649 ± 0.0157\n",
      "SVM: CV Accuracy = 0.9789 ± 0.0143\n",
      "KNN: CV Accuracy = 0.9701 ± 0.0044\n",
      "Gradient Boosting: CV Accuracy = 0.9649 ± 0.0222\n"
     ]
    }
   ],
   "source": [
    "from sklearn.model_selection import cross_val_score\n",
    "\n",
    "for name, model in models.items():\n",
    "    scores = cross_val_score(model, X_model, y, cv=5, scoring='accuracy')\n",
    "    print(f\"{name}: CV Accuracy = {scores.mean():.4f} ± {scores.std():.4f}\")\n"
   ]
  },
  {
   "cell_type": "markdown",
   "id": "2b1bf836",
   "metadata": {},
   "source": [
    "#### 📊 Cross-Validation Performance Summary\n",
    "    Model\t      Mean Accuracy\t Std Dev\t  Insights\n",
    "    SVM\t                0.9789\t    0.0143\t    Top performer — excellent generalization and margin-based separation\n",
    "    KNN\t                0.9701\t    0.0044\t    Very stable — low variance across folds, but slightly lower accuracy\n",
    "    Logistic Regression\t0.9649\t    0.0078\t    Strong baseline — interpretable and consistent\n",
    "    Random Forest\t    0.9649\t    0.0157\t    Matches logistic regression, but more variance\n",
    "    Gradient Boosting\t0.9649\t    0.0222\t    Highest variance — sensitive to fold composition"
   ]
  },
  {
   "cell_type": "markdown",
   "id": "00d27a0b",
   "metadata": {},
   "source": [
    "# 6. Final Modeling Pipeline with SVM"
   ]
  },
  {
   "cell_type": "markdown",
   "id": "3baaee9d",
   "metadata": {},
   "source": [
    "## 6.1 Hyperparameter Tuning (Grid Search) "
   ]
  },
  {
   "cell_type": "code",
   "execution_count": 54,
   "id": "3dae0354",
   "metadata": {},
   "outputs": [
    {
     "name": "stdout",
     "output_type": "stream",
     "text": [
      "Best Parameters: {'C': 1, 'gamma': 'scale', 'kernel': 'rbf'}\n",
      "Best CV Accuracy: 0.9789473684210528\n"
     ]
    }
   ],
   "source": [
    "from sklearn.model_selection import GridSearchCV\n",
    "from sklearn.svm import SVC\n",
    "\n",
    "param_grid = {\n",
    "    'C': [0.1, 1, 10, 100],\n",
    "    'kernel': ['linear', 'rbf', 'poly'],\n",
    "    'gamma': ['scale', 'auto']\n",
    "}\n",
    "\n",
    "grid = GridSearchCV(SVC(probability=True), param_grid, cv=5, scoring='accuracy')\n",
    "grid.fit(X_model, y)\n",
    "\n",
    "print(\"Best Parameters:\", grid.best_params_)\n",
    "print(\"Best CV Accuracy:\", grid.best_score_)"
   ]
  },
  {
   "cell_type": "markdown",
   "id": "eae2d3e4",
   "metadata": {},
   "source": [
    "## 6.2 ROC Curve Visualization"
   ]
  },
  {
   "cell_type": "code",
   "execution_count": 62,
   "id": "53f38846",
   "metadata": {},
   "outputs": [
    {
     "data": {
      "image/png": "[encoded data removed]",
      "text/plain": [
       "<Figure size 800x600 with 1 Axes>"
      ]
     },
     "metadata": {},
     "output_type": "display_data"
    }
   ],
   "source": [
    "from sklearn.metrics import roc_curve, auc\n",
    "import matplotlib.pyplot as plt\n",
    "\n",
    "# Use best estimator from grid search\n",
    "best_model = grid.best_estimator_\n",
    "y_prob = best_model.predict_proba(X_test)[:, 1]\n",
    "fpr, tpr, _ = roc_curve(y_test, y_prob)\n",
    "roc_auc = auc(fpr, tpr)\n",
    "\n",
    "plt.figure(figsize=(8,6))\n",
    "plt.plot(fpr, tpr, label=f'SVM (AUC = {roc_auc:.2f})', color='blue')\n",
    "plt.plot([0, 1], [0, 1], 'k--', label='Random Guess')\n",
    "plt.xlabel('False Positive Rate')\n",
    "plt.ylabel('True Positive Rate')\n",
    "plt.title('ROC Curve for SVM')\n",
    "plt.legend()\n",
    "plt.grid(True)\n",
    "plt.show()"
   ]
  },
  {
   "cell_type": "markdown",
   "id": "64eeda1a",
   "metadata": {},
   "source": [
    "- That ROC curve is a beauty, Ambareesh - textbook performance. With an AUC of 0.99, your SVM model is nearly perfect at distinguishing between malignant and benign cases. Let’s lock in what this means:\n",
    "\n",
    "#### 🔍 ROC Curve Interpretation\n",
    "* True Positive Rate (TPR): High across the board — your model catches most malignant cases.\n",
    "\n",
    "* False Positive Rate (FPR): Very low — minimal misclassification of benign cases.\n",
    "\n",
    "* Curve hugging the top-left corner: Indicates excellent separability.\n",
    "\n",
    "* AUC = 0.99: Your model is 99% likely to rank a random malignant case higher than a benign one.\n",
    "\n",
    "#### ✅ What This Confirms\n",
    "* Your feature selection was spot-on.\n",
    "\n",
    "* SVM with tuned parameters is highly reliable for this dataset.\n",
    "\n",
    "You’ve built a model that’s not just accurate — it’s clinically trustworthy in terms of sensitivity and specificity."
   ]
  },
  {
   "cell_type": "markdown",
   "id": "45b9ac9f",
   "metadata": {},
   "source": [
    "## 6.3 Model Interpretation"
   ]
  },
  {
   "cell_type": "code",
   "execution_count": 61,
   "id": "176ac093",
   "metadata": {},
   "outputs": [
    {
     "name": "stdout",
     "output_type": "stream",
     "text": [
      "mean radius: -0.6237\n",
      "mean perimeter: -0.0145\n",
      "mean area: -1.4161\n",
      "mean concavity: 0.9415\n",
      "mean concave points: -0.5078\n",
      "area error: -0.9744\n",
      "worst radius: -0.4998\n",
      "worst perimeter: -0.7167\n",
      "worst area: -0.8879\n",
      "worst concave points: -1.0309\n"
     ]
    }
   ],
   "source": [
    "# The coef_ attribute is only available for SVMs with a linear kernel. Linear kernels like 'rbf', 'poly' etc. \n",
    "# don’t produce explicit coefficients, because they operate in transformed feature spaces.\n",
    "\n",
    "linear_svm = SVC(kernel='linear')\n",
    "linear_svm.fit(X_train, y_train)\n",
    "\n",
    "coef = linear_svm.coef_[0]\n",
    "for feature, weight in zip(selected_features, coef):\n",
    "    print(f\"{feature}: {weight:.4f}\")\n"
   ]
  },
  {
   "cell_type": "markdown",
   "id": "6dd52830",
   "metadata": {},
   "source": [
    "#### 🧠 Feature Impact Interpretation\n",
    "    Feature\tCoefficient\tInterpretation\n",
    "    mean area\t-1.4161\tStrong negative influence — higher area likely indicates benign\n",
    "    worst concave points\t-1.0309\tStrong negative — fewer concave points suggest benign\n",
    "    area error\t-0.9744\tNegative — less variability in area leans benign\n",
    "    worst area\t-0.8879\tNegative — larger worst area may indicate benign\n",
    "    worst perimeter\t-0.7167\tNegative — longer perimeter correlates with benign\n",
    "    mean radius\t-0.6237\tNegative — larger radius leans benign\n",
    "    worst radius\t-0.4998\tNegative — similar to mean radius\n",
    "    mean concave points\t-0.5078\tNegative — fewer concave points suggest benign\n",
    "    mean perimeter\t-0.0145\tMinimal impact — nearly neutral\n",
    "    mean concavity\t+0.9415\tOnly positive — higher concavity increases likelihood of malignancy"
   ]
  },
  {
   "cell_type": "markdown",
   "id": "a10e5b6c",
   "metadata": {},
   "source": [
    "## 6.4 Final Deployment-Ready Pipeline"
   ]
  },
  {
   "cell_type": "code",
   "execution_count": 60,
   "id": "b418d369",
   "metadata": {
    "scrolled": true
   },
   "outputs": [
    {
     "data": {
      "text/plain": [
       "Pipeline(steps=[('scaler', StandardScaler()),\n",
       "                ('svm', SVC(C=1, probability=True))])"
      ]
     },
     "execution_count": 60,
     "metadata": {},
     "output_type": "execute_result"
    }
   ],
   "source": [
    "from sklearn.pipeline import Pipeline\n",
    "from sklearn.preprocessing import StandardScaler\n",
    "\n",
    "final_pipeline = Pipeline([\n",
    "    ('scaler', StandardScaler()),\n",
    "    ('svm', SVC(C=grid.best_params_['C'], kernel=grid.best_params_['kernel'], gamma=grid.best_params_['gamma'], probability=True))\n",
    "])\n",
    "\n",
    "final_pipeline.fit(X_model, y)\n"
   ]
  },
  {
   "cell_type": "markdown",
   "id": "096ea3ff",
   "metadata": {},
   "source": [
    "#### ✅ What This Pipeline Does: \n",
    "    1. Standardizes input features before modeling — essential for SVM.\n",
    "    2. Encapsulates preprocessing and modeling in one object — perfect for deployment.\n",
    "    3. Supports probability outputs via probability=True — useful for ROC curves, thresholds, and decision support.\n",
    "    \n",
    "#### 🧠 Next Moves You Might Consider:\n",
    "    1. Save the pipeline using joblib or pickle for reuse.\n",
    "    2. Wrap it in a function or class for modular deployment.\n",
    "    3. Test on new data to validate generalization.\n",
    "    4. Integrate into a dashboard or API for real-time predictions."
   ]
  },
  {
   "cell_type": "code",
   "execution_count": null,
   "id": "2280f2a1",
   "metadata": {},
   "outputs": [],
   "source": []
  }
 ],
 "metadata": {
  "kernelspec": {
   "display_name": "Python 3 (ipykernel)",
   "language": "python",
   "name": "python3"
  },
  "language_info": {
   "codemirror_mode": {
    "name": "ipython",
    "version": 3
   },
   "file_extension": ".py",
   "mimetype": "text/x-python",
   "name": "python",
   "nbconvert_exporter": "python",
   "pygments_lexer": "ipython3",
   "version": "3.9.13"
  }
 },
 "nbformat": 4,
 "nbformat_minor": 5
}
